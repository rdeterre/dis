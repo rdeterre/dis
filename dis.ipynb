{
 "cells": [
  {
   "cell_type": "code",
   "execution_count": 26,
   "metadata": {
    "collapsed": true
   },
   "outputs": [],
   "source": [
    "import numpy as np\n",
    "import numpy.random\n",
    "import matplotlib.pyplot as plt\n",
    "from ipywidgets import interact, interactive, fixed, interact_manual\n",
    "import ipywidgets as widgets"
   ]
  },
  {
   "cell_type": "code",
   "execution_count": 29,
   "metadata": {},
   "outputs": [
    {
     "data": {
      "application/vnd.jupyter.widget-view+json": {
       "model_id": "553c3df278554a97ab7988743a12c458",
       "version_major": 2,
       "version_minor": 0
      },
      "text/plain": [
       "A Jupyter Widget"
      ]
     },
     "metadata": {},
     "output_type": "display_data"
    }
   ],
   "source": [
    "def process(sample: np.uint16, gain: np.float32, offset: np.int16, saturation: np.uint16):\n",
    "    sample = sample >> np.uint16(2)\n",
    "    sample = np.int16(np.int32(sample) - 8192)\n",
    "    sample = np.float32(sample) * gain\n",
    "    sample = np.int16(sample) + offset\n",
    "    if sample < -8191:\n",
    "        sample = -8191\n",
    "    sample = np.uint16(np.int32(sample) + 8191)\n",
    "    if sample > saturation:\n",
    "        sample = saturation\n",
    "    return sample\n",
    "\n",
    "def dis(gain: np.float32, offset: np.int16, saturation: np.uint16):\n",
    "    phase = np.arange(start=0, stop=10, step=0.02, dtype=np.float32)\n",
    "    noise = np.random.rand(phase.shape[0])\n",
    "    d = np.sin(phase) * 10000 + 32768 + noise * 300\n",
    "    d = d.astype(np.uint16)\n",
    "    vprocess = np.vectorize(process,excluded=['gain, offset, saturation'])\n",
    "    out = vprocess(d, gain, offset, saturation)\n",
    "    f, axes = plt.subplots(2, 1, sharex=True)\n",
    "    axes[0].plot(d)\n",
    "    axes[1].plot(out)\n",
    "    plt.show()\n",
    "\n",
    "interact(dis, \n",
    "         gain=widgets.FloatSlider(min=0,max=10,step=0.01,value=1),\n",
    "         offset=widgets.IntSlider(min=-9191,max=9191,step=1,value=0),\n",
    "         saturation=widgets.IntSlider(min=0,max=65536,step=1,value=16384));"
   ]
  },
  {
   "cell_type": "code",
   "execution_count": null,
   "metadata": {
    "collapsed": true
   },
   "outputs": [],
   "source": []
  }
 ],
 "metadata": {
  "kernelspec": {
   "display_name": "Python 3.6",
   "language": "python",
   "name": "python36"
  },
  "language_info": {
   "codemirror_mode": {
    "name": "ipython",
    "version": 3
   },
   "file_extension": ".py",
   "mimetype": "text/x-python",
   "name": "python",
   "nbconvert_exporter": "python",
   "pygments_lexer": "ipython3",
   "version": "3.6.2"
  }
 },
 "nbformat": 4,
 "nbformat_minor": 2
}
